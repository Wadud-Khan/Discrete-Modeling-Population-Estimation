{
 "cells": [
  {
   "cell_type": "markdown",
   "metadata": {},
   "source": [
    "#### A Discrete Population Estimation Model for  New Zealand Sheep Population"
   ]
  },
  {
   "cell_type": "markdown",
   "metadata": {},
   "source": [
    "###### By Wadud Khan"
   ]
  },
  {
   "cell_type": "markdown",
   "metadata": {},
   "source": [
    "**Discrete Modeling** is a technique used to model change in variables through recurrence relationships. We can explain discrete outcomes with some combination of discrete and/or continuous variables. A useful application of Discrete Modeling is in population estimation. For this project, we are given data on the birth and survival rates of female sheep, and their total population of different ages in 1965. We are provided with different age groups ranging from 0-11 years old divided into 1 year age groups."
   ]
  },
  {
   "cell_type": "code",
   "execution_count": 1,
   "metadata": {},
   "outputs": [],
   "source": [
    "import pandas as pd"
   ]
  },
  {
   "cell_type": "code",
   "execution_count": 2,
   "metadata": {},
   "outputs": [
    {
     "data": {
      "text/html": [
       "<div>\n",
       "<style scoped>\n",
       "    .dataframe tbody tr th:only-of-type {\n",
       "        vertical-align: middle;\n",
       "    }\n",
       "\n",
       "    .dataframe tbody tr th {\n",
       "        vertical-align: top;\n",
       "    }\n",
       "\n",
       "    .dataframe thead th {\n",
       "        text-align: right;\n",
       "    }\n",
       "</style>\n",
       "<table border=\"1\" class=\"dataframe\">\n",
       "  <thead>\n",
       "    <tr style=\"text-align: right;\">\n",
       "      <th></th>\n",
       "      <th>Age (years)</th>\n",
       "      <th>Birth Rate</th>\n",
       "      <th>Survival Rate</th>\n",
       "      <th>Population in 1965</th>\n",
       "    </tr>\n",
       "  </thead>\n",
       "  <tbody>\n",
       "    <tr>\n",
       "      <th>0</th>\n",
       "      <td>0-1</td>\n",
       "      <td>0.000</td>\n",
       "      <td>0.891</td>\n",
       "      <td>105</td>\n",
       "    </tr>\n",
       "    <tr>\n",
       "      <th>1</th>\n",
       "      <td>1-2</td>\n",
       "      <td>0.045</td>\n",
       "      <td>0.975</td>\n",
       "      <td>156</td>\n",
       "    </tr>\n",
       "    <tr>\n",
       "      <th>2</th>\n",
       "      <td>2-3</td>\n",
       "      <td>0.391</td>\n",
       "      <td>0.965</td>\n",
       "      <td>175</td>\n",
       "    </tr>\n",
       "    <tr>\n",
       "      <th>3</th>\n",
       "      <td>3-4</td>\n",
       "      <td>0.435</td>\n",
       "      <td>0.850</td>\n",
       "      <td>227</td>\n",
       "    </tr>\n",
       "    <tr>\n",
       "      <th>4</th>\n",
       "      <td>4-5</td>\n",
       "      <td>0.484</td>\n",
       "      <td>0.926</td>\n",
       "      <td>186</td>\n",
       "    </tr>\n",
       "    <tr>\n",
       "      <th>5</th>\n",
       "      <td>5-6</td>\n",
       "      <td>0.546</td>\n",
       "      <td>0.895</td>\n",
       "      <td>153</td>\n",
       "    </tr>\n",
       "    <tr>\n",
       "      <th>6</th>\n",
       "      <td>6-7</td>\n",
       "      <td>0.543</td>\n",
       "      <td>0.850</td>\n",
       "      <td>134</td>\n",
       "    </tr>\n",
       "    <tr>\n",
       "      <th>7</th>\n",
       "      <td>7-8</td>\n",
       "      <td>0.502</td>\n",
       "      <td>0.786</td>\n",
       "      <td>126</td>\n",
       "    </tr>\n",
       "    <tr>\n",
       "      <th>8</th>\n",
       "      <td>8-9</td>\n",
       "      <td>0.486</td>\n",
       "      <td>0.691</td>\n",
       "      <td>94</td>\n",
       "    </tr>\n",
       "    <tr>\n",
       "      <th>9</th>\n",
       "      <td>9-10</td>\n",
       "      <td>0.495</td>\n",
       "      <td>0.561</td>\n",
       "      <td>67</td>\n",
       "    </tr>\n",
       "    <tr>\n",
       "      <th>10</th>\n",
       "      <td>10-11</td>\n",
       "      <td>0.433</td>\n",
       "      <td>0.370</td>\n",
       "      <td>52</td>\n",
       "    </tr>\n",
       "    <tr>\n",
       "      <th>11</th>\n",
       "      <td>11+</td>\n",
       "      <td>0.421</td>\n",
       "      <td>0.000</td>\n",
       "      <td>22</td>\n",
       "    </tr>\n",
       "  </tbody>\n",
       "</table>\n",
       "</div>"
      ],
      "text/plain": [
       "   Age (years)  Birth Rate  Survival Rate  Population in 1965\n",
       "0          0-1       0.000          0.891                 105\n",
       "1          1-2       0.045          0.975                 156\n",
       "2          2-3       0.391          0.965                 175\n",
       "3          3-4       0.435          0.850                 227\n",
       "4          4-5       0.484          0.926                 186\n",
       "5          5-6       0.546          0.895                 153\n",
       "6          6-7       0.543          0.850                 134\n",
       "7          7-8       0.502          0.786                 126\n",
       "8          8-9       0.486          0.691                  94\n",
       "9         9-10       0.495          0.561                  67\n",
       "10       10-11       0.433          0.370                  52\n",
       "11         11+       0.421          0.000                  22"
      ]
     },
     "execution_count": 2,
     "metadata": {},
     "output_type": "execute_result"
    }
   ],
   "source": [
    "data = pd.read_csv(\"NewZealandSheepBirthandSurvivalRates.csv\")\n",
    "data"
   ]
  },
  {
   "cell_type": "markdown",
   "metadata": {},
   "source": [
    "Using this data, can we create a discrete model to estimate the **total** female sheep population 10 years later in 1975?"
   ]
  },
  {
   "cell_type": "markdown",
   "metadata": {},
   "source": [
    "We see that each age group has respective birth and survival rates. This is crucial because it sets the stage for the recurrence relationships mentioned earlier. As time passes with a scale of 1 year, the population of an age group is determined by the population of the **previous age group that survived in the past year**. Aging sheep are grouped into a new age group every year.\n",
    "\n",
    "* The survival rates give us information on the population for the next age group.\n",
    "* The birth rates give us information on the population for the 0-1 year age group since all newborn sheep fall into this group."
   ]
  },
  {
   "cell_type": "markdown",
   "metadata": {},
   "source": [
    "<u>**Setting up the recurrence relationships**</u>"
   ]
  },
  {
   "cell_type": "markdown",
   "metadata": {},
   "source": [
    "* $n$ = number of 1 year spans starting in 1965\n",
    "* $P_n$ = Population of an age group at year 1965 + $n$"
   ]
  },
  {
   "cell_type": "markdown",
   "metadata": {},
   "source": [
    "Since the 0-1 age group depends on every other age group it will be quite long:\n",
    "\n",
    "$P_0 = 105$\n",
    "\n",
    "$P_n = 0.045*(P_{n-1}$ of 1-2 age group) + $0.391*(P_{n-1}$ of 2-3 age group $)$ + $0.435*(P_{n-1}$ of 3-4 age group $)$ + $0.484*(P_{n-1}$ of 4-5 age group $)$ + $0.546*(P_{n-1}$ of 5-6 age group $)$ + $0.543*(P_{n-1}$ of 6-7 age group $)$ + $0.502*(P_{n-1}$ of 7-8 age group $)$ + $0.486*(P_{n-1}$ of 8-9 age group $)$ + $0.495*(P_{n-1}$ of 9-10 age group $)$ + $0.433*(P_{n-1}$ of 10-11 age group $)$ + $0.421*(P_{n-1}$ of 11 age group $)$"
   ]
  },
  {
   "cell_type": "markdown",
   "metadata": {},
   "source": [
    "For all other age group, it is simply the age group below it, multiplied by its survival rate."
   ]
  },
  {
   "cell_type": "markdown",
   "metadata": {},
   "source": [
    "**For 1-2 age group:**\n",
    "\n",
    "$P_0$ = 156\n",
    "\n",
    "$P_n$ = $0.891*(P_{n-1}$ of 0-1 age group $)$"
   ]
  },
  {
   "cell_type": "markdown",
   "metadata": {},
   "source": [
    "**For 2-3 age group:**\n",
    "\n",
    "$P_0$ = 175\n",
    "\n",
    "$P_n$ = $0.975*(P_{n-1}$ of 1-2 age group $)$"
   ]
  },
  {
   "cell_type": "markdown",
   "metadata": {},
   "source": [
    "**For 3-4 age group:**\n",
    "\n",
    "$P_0$ = 227\n",
    "\n",
    "$P_n$ = $0.965*(P_{n-1}$ of 2-3 age group $)$"
   ]
  },
  {
   "cell_type": "markdown",
   "metadata": {},
   "source": [
    "**For 4-5 age group:**\n",
    "\n",
    "$P_0$ = 186\n",
    "\n",
    "$P_n$ = $0.850*(P_{n-1}$ of 3-4 age group $)$"
   ]
  },
  {
   "cell_type": "markdown",
   "metadata": {},
   "source": [
    "**For 5-6 age group:**\n",
    "\n",
    "$P_0$ = 153\n",
    "\n",
    "$P_n$ = $0.926*(P_{n-1}$ of 4-5 age group $)$"
   ]
  },
  {
   "cell_type": "markdown",
   "metadata": {},
   "source": [
    "**And so on...**"
   ]
  },
  {
   "cell_type": "markdown",
   "metadata": {},
   "source": [
    "This process is repeated for every age group."
   ]
  },
  {
   "cell_type": "code",
   "execution_count": 3,
   "metadata": {},
   "outputs": [],
   "source": [
    "import matplotlib.pyplot as plt"
   ]
  },
  {
   "cell_type": "code",
   "execution_count": 8,
   "metadata": {},
   "outputs": [
    {
     "data": {
      "image/png": "[encoded data removed]",
      "text/plain": [
       "<Figure size 432x288 with 1 Axes>"
      ]
     },
     "metadata": {
      "needs_background": "light"
     },
     "output_type": "display_data"
    }
   ],
   "source": [
    "P1 = [105]\n",
    "P2 = [156]\n",
    "P3 = [175]\n",
    "P4 = [227]\n",
    "P5 = [186]\n",
    "P6 = [153]\n",
    "P7 = [134]\n",
    "P8 = [126]\n",
    "P9 = [94]\n",
    "P10 = [67]\n",
    "P11 = [52]\n",
    "P11above = [22]\n",
    "\n",
    "for i in range(10):\n",
    "    P1_old = P1[-1]\n",
    "    P2_old = P2[-1]\n",
    "    P3_old = P3[-1]\n",
    "    P4_old = P4[-1]\n",
    "    P5_old = P5[-1]\n",
    "    P6_old = P6[-1]\n",
    "    P7_old = P7[-1]\n",
    "    P8_old = P8[-1]\n",
    "    P9_old = P9[-1]\n",
    "    P10_old = P10[-1]\n",
    "    P11_old = P11[-1]\n",
    "    P11above_old = P11above[-1]\n",
    "    P1_new = 0.045*(P2_old) +0.391*(P3_old) +0.435*(P4_old) +0.484*(P5_old) +0.546*(P6_old) +0.543*(P7_old) +0.502*(P8_old) +0.486*(P9_old) +0.495*(P10_old) +0.433*(P11_old) +0.421*(P11above_old)\n",
    "    P2_new = 0.891*(P1_old)\n",
    "    P3_new = 0.975*(P2_old)\n",
    "    P4_new = 0.965*(P3_old)\n",
    "    P5_new = 0.850*(P4_old)\n",
    "    P6_new = 0.926*(P5_old)\n",
    "    P7_new = 0.895*(P6_old)\n",
    "    P8_new = 0.850*(P7_old)\n",
    "    P9_new = 0.786*(P8_old)\n",
    "    P10_new = 0.691*(P9_old)\n",
    "    P11_new = 0.561*(P10_old)\n",
    "    P11above_new = 0.370*(P11_old)\n",
    "    P1.append(P1_new)\n",
    "    P2.append(P2_new)\n",
    "    P3.append(P3_new)\n",
    "    P4.append(P4_new)\n",
    "    P5.append(P5_new)\n",
    "    P6.append(P6_new)\n",
    "    P7.append(P7_new)\n",
    "    P8.append(P8_new)\n",
    "    P9.append(P9_new)\n",
    "    P10.append(P10_new)\n",
    "    P11.append(P11_new)\n",
    "    P11above.append(P11above_new)\n",
    "    plt.plot(range(len(P1)),P1,label=\"0-1\")\n",
    "    plt.plot(range(len(P2)),P2,label=\"1-2\")\n",
    "    plt.plot(range(len(P3)),P3,label=\"2-3\")\n",
    "    plt.plot(range(len(P4)),P4,label=\"3-4\")\n",
    "    plt.plot(range(len(P5)),P5,label=\"4-5\")\n",
    "    plt.plot(range(len(P6)),P6,label=\"5-6\")\n",
    "    plt.plot(range(len(P7)),P7,label=\"6-7\")\n",
    "    plt.plot(range(len(P8)),P8,label=\"7-8\")\n",
    "    plt.plot(range(len(P9)),P9,label=\"8-9\")\n",
    "    plt.plot(range(len(P10)),P10,label=\"9-10\")\n",
    "    plt.plot(range(len(P11)),P11,label=\"10-11\")\n",
    "    plt.plot(range(len(P11above)),P11above,label=\"11+\")\n",
    "    \n"
   ]
  },
  {
   "cell_type": "markdown",
   "metadata": {},
   "source": [
    "A list was created for every age group and each proceeding entry is the new population of that age group after 1 year. With this in mind, we can sum the last entries on each list and this will give us the **estimated total population** 10 years later, in 1975. To check the validity of this, lets first sum up the _first_ values on each list to give us the total population in our starting year,1965. We expect a total population of 1497 as this information is explicitly given to us in the table."
   ]
  },
  {
   "cell_type": "code",
   "execution_count": 5,
   "metadata": {},
   "outputs": [
    {
     "data": {
      "text/plain": [
       "1497"
      ]
     },
     "execution_count": 5,
     "metadata": {},
     "output_type": "execute_result"
    }
   ],
   "source": [
    "P1[0] + P2[0] + P3[0] + P4[0] + P5[0] + P6[0] + P7[0] + P8[0] + P9[0] + P10[0] + P11[0] + P11above[0]"
   ]
  },
  {
   "cell_type": "markdown",
   "metadata": {},
   "source": [
    "Success! This approach works. Now lets sum up the last entries on each list to find our **estimated total population** in 1975:"
   ]
  },
  {
   "cell_type": "code",
   "execution_count": 6,
   "metadata": {},
   "outputs": [
    {
     "data": {
      "text/plain": [
       "7030.995666024926"
      ]
     },
     "execution_count": 6,
     "metadata": {},
     "output_type": "execute_result"
    }
   ],
   "source": [
    "P1[-1] + P2[-1] + P3[-1] + P4[-1] + P5[-1] + P6[-1] + P7[-1] + P8[-1] + P9[-1] + P10[-1] + P11[-1] + P11above[-1]"
   ]
  },
  {
   "cell_type": "markdown",
   "metadata": {},
   "source": [
    "Finally, we estimate that the total population of New Zealand female sheep will be around 7,031 in 1975"
   ]
  },
  {
   "cell_type": "code",
   "execution_count": 0,
   "metadata": {},
   "outputs": [],
   "source": []
  }
 ],
 "metadata": {
  "kernelspec": {
   "display_name": "Python 3",
   "language": "python",
   "name": "python3"
  },
  "language_info": {
   "codemirror_mode": {
    "name": "ipython",
    "version": 3
   },
   "file_extension": ".py",
   "mimetype": "text/x-python",
   "name": "python",
   "nbconvert_exporter": "python",
   "pygments_lexer": "ipython3",
   "version": "3.8.8"
  }
 },
 "nbformat": 4,
 "nbformat_minor": 4
}
